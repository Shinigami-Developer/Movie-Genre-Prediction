{
  "nbformat": 4,
  "nbformat_minor": 0,
  "metadata": {
    "colab": {
      "name": "Movie Genre Prediction.ipynb",
      "provenance": [],
      "collapsed_sections": [],
      "mount_file_id": "1HSobX5p5YKH00YFoC1qSJLyqS2OlEcel",
      "authorship_tag": "ABX9TyPdxQ37scVC4NUVXnyc65ZG"
    },
    "kernelspec": {
      "name": "python3",
      "display_name": "Python 3"
    }
  },
  "cells": [
    {
      "cell_type": "code",
      "metadata": {
        "id": "4ugQhvrA3lBt"
      },
      "source": [
        "# Importing essential libraries\r\n",
        "import pandas as pd\r\n",
        "import pickle"
      ],
      "execution_count": 1,
      "outputs": []
    },
    {
      "cell_type": "code",
      "metadata": {
        "id": "WMhVq1dc4es4"
      },
      "source": [
        "# Loading the dataset importing in Google colab\r\n",
        "df = pd.read_csv('/content/drive/MyDrive/projects real/movie genre prediction/kaggle_movie_train.csv')"
      ],
      "execution_count": 2,
      "outputs": []
    },
    {
      "cell_type": "code",
      "metadata": {
        "colab": {
          "base_uri": "https://localhost:8080/",
          "height": 204
        },
        "id": "M0-LbFDM4_pf",
        "outputId": "62c31453-809d-4230-b4eb-bc6000a3bd4a"
      },
      "source": [
        "df.head()"
      ],
      "execution_count": 4,
      "outputs": [
        {
          "output_type": "execute_result",
          "data": {
            "text/html": [
              "<div>\n",
              "<style scoped>\n",
              "    .dataframe tbody tr th:only-of-type {\n",
              "        vertical-align: middle;\n",
              "    }\n",
              "\n",
              "    .dataframe tbody tr th {\n",
              "        vertical-align: top;\n",
              "    }\n",
              "\n",
              "    .dataframe thead th {\n",
              "        text-align: right;\n",
              "    }\n",
              "</style>\n",
              "<table border=\"1\" class=\"dataframe\">\n",
              "  <thead>\n",
              "    <tr style=\"text-align: right;\">\n",
              "      <th></th>\n",
              "      <th>id</th>\n",
              "      <th>text</th>\n",
              "      <th>genre</th>\n",
              "    </tr>\n",
              "  </thead>\n",
              "  <tbody>\n",
              "    <tr>\n",
              "      <th>0</th>\n",
              "      <td>0</td>\n",
              "      <td>eady dead, maybe even wishing he was. INT. 2ND...</td>\n",
              "      <td>8</td>\n",
              "    </tr>\n",
              "    <tr>\n",
              "      <th>1</th>\n",
              "      <td>2</td>\n",
              "      <td>t, summa cum laude and all. And I'm about to l...</td>\n",
              "      <td>3</td>\n",
              "    </tr>\n",
              "    <tr>\n",
              "      <th>2</th>\n",
              "      <td>3</td>\n",
              "      <td>up Come, I have a surprise.... She takes him ...</td>\n",
              "      <td>4</td>\n",
              "    </tr>\n",
              "    <tr>\n",
              "      <th>3</th>\n",
              "      <td>4</td>\n",
              "      <td>ded by the two detectives. INT. JEFF'S APARTME...</td>\n",
              "      <td>8</td>\n",
              "    </tr>\n",
              "    <tr>\n",
              "      <th>4</th>\n",
              "      <td>5</td>\n",
              "      <td>nd dismounts, just as the other children reach...</td>\n",
              "      <td>4</td>\n",
              "    </tr>\n",
              "  </tbody>\n",
              "</table>\n",
              "</div>"
            ],
            "text/plain": [
              "   id                                               text  genre\n",
              "0   0  eady dead, maybe even wishing he was. INT. 2ND...      8\n",
              "1   2  t, summa cum laude and all. And I'm about to l...      3\n",
              "2   3   up Come, I have a surprise.... She takes him ...      4\n",
              "3   4  ded by the two detectives. INT. JEFF'S APARTME...      8\n",
              "4   5  nd dismounts, just as the other children reach...      4"
            ]
          },
          "metadata": {
            "tags": []
          },
          "execution_count": 4
        }
      ]
    },
    {
      "cell_type": "code",
      "metadata": {
        "id": "wuQEqWU547OA"
      },
      "source": [
        "# Mapping the genres to values\r\n",
        "genre_mapper = {'other': 0, 'action': 1, 'adventure': 2, 'comedy':3, 'drama':4, 'horror':5, 'romance':6, 'sci-fi':7, 'thriller': 8}\r\n",
        "df['genre'] = df['genre'].map(genre_mapper)"
      ],
      "execution_count": 3,
      "outputs": []
    },
    {
      "cell_type": "code",
      "metadata": {
        "id": "HS-roxpP5Qi_"
      },
      "source": [
        "# Removing the 'id' column\r\n",
        "df.drop('id', axis=1, inplace=True)"
      ],
      "execution_count": 5,
      "outputs": []
    },
    {
      "cell_type": "code",
      "metadata": {
        "colab": {
          "base_uri": "https://localhost:8080/"
        },
        "id": "ud2ZdP8F486e",
        "outputId": "f49795c7-d558-4700-c1b0-078fc211545d"
      },
      "source": [
        "# Importing essential libraries for performing Natural Language Processing on given dataset\r\n",
        "import nltk\r\n",
        "import re\r\n",
        "nltk.download('stopwords')\r\n",
        "from nltk.corpus import stopwords\r\n",
        "from nltk.stem.porter import PorterStemmer"
      ],
      "execution_count": 6,
      "outputs": [
        {
          "output_type": "stream",
          "text": [
            "[nltk_data] Downloading package stopwords to /root/nltk_data...\n",
            "[nltk_data]   Unzipping corpora/stopwords.zip.\n"
          ],
          "name": "stdout"
        }
      ]
    },
    {
      "cell_type": "code",
      "metadata": {
        "id": "KZyXRGEY5Xjv"
      },
      "source": [
        "# Cleaning the text\r\n",
        "corpus = []\r\n",
        "ps = PorterStemmer()"
      ],
      "execution_count": 7,
      "outputs": []
    },
    {
      "cell_type": "code",
      "metadata": {
        "id": "2zBHLYK_5ZBO"
      },
      "source": [
        "for i in range(0, df.shape[0]):\r\n",
        "\r\n",
        "  # Cleaning special character from the dialog/script\r\n",
        "  dialog = re.sub(pattern='[^a-zA-Z]', repl=' ', string=df['text'][i])\r\n",
        "\r\n",
        "  # Converting the entire dialog/script into lower case\r\n",
        "  dialog = dialog.lower()\r\n",
        "\r\n",
        "  # Tokenizing the dialog/script by words\r\n",
        "  words = dialog.split()\r\n",
        "\r\n",
        "  # Removing the stop words\r\n",
        "  dialog_words = [word for word in words if word not in set(stopwords.words('english'))]\r\n",
        "\r\n",
        "  # Stemming the words\r\n",
        "  words = [ps.stem(word) for word in dialog_words]\r\n",
        "\r\n",
        "  # Joining the stemmed words\r\n",
        "  dialog = ' '.join(words)\r\n",
        "\r\n",
        "  # Creating a corpus\r\n",
        "  corpus.append(dialog)"
      ],
      "execution_count": 8,
      "outputs": []
    },
    {
      "cell_type": "code",
      "metadata": {
        "id": "xoymDCo25oOe"
      },
      "source": [
        "# Creating the Bag of Words model\r\n",
        "from sklearn.feature_extraction.text import CountVectorizer\r\n",
        "cv = CountVectorizer(max_features=10000, ngram_range=(1,2))\r\n",
        "X = cv.fit_transform(corpus).toarray()\r\n",
        "y = df['genre'].values"
      ],
      "execution_count": 9,
      "outputs": []
    },
    {
      "cell_type": "code",
      "metadata": {
        "id": "v6Ht3g1q5zYu"
      },
      "source": [
        "# Creating a pickle file for the CountVectorizer\r\n",
        "pickle.dump(cv, open('cv-transform.pkl', 'wb'))"
      ],
      "execution_count": 10,
      "outputs": []
    },
    {
      "cell_type": "code",
      "metadata": {
        "id": "2gOd3KpE5-0G"
      },
      "source": [
        "# Model Building\r\n",
        "\r\n",
        "from sklearn.model_selection import train_test_split\r\n",
        "X_train, X_test, y_train, y_test = train_test_split(X, y, test_size=0.20, random_state=0)"
      ],
      "execution_count": 11,
      "outputs": []
    },
    {
      "cell_type": "code",
      "metadata": {
        "colab": {
          "base_uri": "https://localhost:8080/"
        },
        "id": "nLr24WYm6G73",
        "outputId": "40f2d585-4edb-4c65-cf06-bdf868687263"
      },
      "source": [
        "# Fitting Naive Bayes to the Training set\r\n",
        "from sklearn.naive_bayes import MultinomialNB\r\n",
        "nb_classifier = MultinomialNB(alpha=0.1)\r\n",
        "nb_classifier.fit(X_train, y_train)"
      ],
      "execution_count": 12,
      "outputs": [
        {
          "output_type": "execute_result",
          "data": {
            "text/plain": [
              "MultinomialNB(alpha=0.1, class_prior=None, fit_prior=True)"
            ]
          },
          "metadata": {
            "tags": []
          },
          "execution_count": 12
        }
      ]
    },
    {
      "cell_type": "code",
      "metadata": {
        "id": "xDGL8w8_6K0_"
      },
      "source": [
        "# Creating a pickle file for the Multinomial Naive Bayes model\r\n",
        "filename = 'movie-genre-mnb-model.pkl'\r\n",
        "pickle.dump(nb_classifier, open(filename, 'wb'))"
      ],
      "execution_count": 13,
      "outputs": []
    }
  ]
}